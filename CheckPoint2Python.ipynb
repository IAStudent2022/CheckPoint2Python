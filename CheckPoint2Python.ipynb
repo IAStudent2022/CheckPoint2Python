{
 "cells": [
  {
   "cell_type": "code",
   "execution_count": 86,
   "id": "d71737ce",
   "metadata": {},
   "outputs": [
    {
     "name": "stdout",
     "output_type": "stream",
     "text": [
      "[2002, 2009, 2016, 2023, 2037, 2044, 2051, 2058, 2072, 2079, 2086, 2093, 2107, 2114, 2121, 2128, 2142, 2149, 2156, 2163, 2177, 2184, 2191, 2198, 2212, 2219, 2226, 2233, 2247, 2254, 2261, 2268, 2282, 2289, 2296, 2303, 2317, 2324, 2331, 2338, 2352, 2359, 2366, 2373, 2387, 2394, 2401, 2408, 2422, 2429, 2436, 2443, 2457, 2464, 2471, 2478, 2492, 2499, 2506, 2513, 2527, 2534, 2541, 2548, 2562, 2569, 2576, 2583, 2597, 2604, 2611, 2618, 2632, 2639, 2646, 2653, 2667, 2674, 2681, 2688, 2702, 2709, 2716, 2723, 2737, 2744, 2751, 2758, 2772, 2779, 2786, 2793, 2807, 2814, 2821, 2828, 2842, 2849, 2856, 2863, 2877, 2884, 2891, 2898, 2912, 2919, 2926, 2933, 2947, 2954, 2961, 2968, 2982, 2989, 2996, 3003, 3017, 3024, 3031, 3038, 3052, 3059, 3066, 3073, 3087, 3094, 3101, 3108, 3122, 3129, 3136, 3143, 3157, 3164, 3171, 3178, 3192, 3199]\n"
     ]
    }
   ],
   "source": [
    "#Question1\n",
    "ListeNombres=[] #initiliser une liste vide\n",
    "for x in range(2000,3201): #parcourir les nombres de 2000 jusqu'à 3201 pour inclure 3200\n",
    "    if x%7==0 and x%5!=0: # tester si le reste de la division euclidienne du nbre par 7 est nul et si ce reste par 5 est différent de zéro\n",
    "        ListeNombres.append(x) #si la condition est vérifiée ajouter le nombre à la fin de la liste\n",
    "print(ListeNombres) #afficher les éléments de la liste"
   ]
  },
  {
   "cell_type": "code",
   "execution_count": 89,
   "id": "a1a9b02d",
   "metadata": {},
   "outputs": [
    {
     "data": {
      "text/plain": [
       "24"
      ]
     },
     "execution_count": 89,
     "metadata": {},
     "output_type": "execute_result"
    }
   ],
   "source": [
    "#Question 2\n",
    "def factorial(nombre): #définir une fonction factorial\n",
    "    resultat=1     #initialiser le résultat à 1\n",
    "    if nombre!=0:  #tester si le nombre est différent de Zéro\n",
    "        for x in range (1,nombre+1): #parcourir les entiers de 1 jusqu'au nombre\n",
    "            resultat=resultat*x    #affecter à la variable résultat le calcul du factoriel   \n",
    "    return(resultat)  #retourner la valeur du factoriel par la fonction, si l'argument initial choisi est nul elle renvoie\n",
    "                      #la valeur 1 initialement affectée à la variable résultat  \n",
    "factorial(4)\n"
   ]
  },
  {
   "cell_type": "code",
   "execution_count": 91,
   "id": "83d5636b",
   "metadata": {},
   "outputs": [],
   "source": [
    "#Question 3\n",
    "def DictCarrés(n): #définir une fonction qui prend comme argument n\n",
    "    if type(n)==int:  #vérifier que l'argument est un entier\n",
    "        DictionnaireCarrés={} #initialiser le Dictionnaire des carrés à un dictionnaire vide\n",
    "        for i in range (1,n+1): #parcourir les entiers de 1 jusqu'au nombre choisi \n",
    "            DictionnaireCarrés[i]=i*i #ajouter à chaque étape au dictionnaire le carré de la valeur correspondante à l'itération en cours\n",
    "        print(DictionnaireCarrés) #afficher les éléments du dictionnaires\n",
    "    else : #si l'argument initialement choisi n'est pas entier\n",
    "        print(n,\"n'est pas entier\") #afficher à l'utilisateur que l'argument n'est pas entier\n",
    "        \n",
    "        \n",
    "    \n",
    "        \n",
    "        "
   ]
  },
  {
   "cell_type": "code",
   "execution_count": 92,
   "id": "811184e2",
   "metadata": {},
   "outputs": [
    {
     "name": "stdout",
     "output_type": "stream",
     "text": [
      "{1: 1, 2: 4, 3: 9}\n"
     ]
    }
   ],
   "source": [
    "DictCarrés(3)"
   ]
  },
  {
   "cell_type": "code",
   "execution_count": 93,
   "id": "c8ae18e9",
   "metadata": {},
   "outputs": [
    {
     "name": "stdout",
     "output_type": "stream",
     "text": [
      "2.56 n'est pas entier\n"
     ]
    }
   ],
   "source": [
    "DictCarrés(2.56)"
   ]
  },
  {
   "cell_type": "code",
   "execution_count": 34,
   "id": "1039d1ec",
   "metadata": {},
   "outputs": [],
   "source": [
    "#Question 4\n",
    "def missing_char(chaine,indice):\n",
    "    if type(indice)==int and type(chaine)==str and len(chaine)!=0 :\n",
    "        if indice>=0 and indice<=len(chaine)-1 :\n",
    "            NouvelleChaine=\"\"\n",
    "            for i in range(0,len(chaine)-1) :\n",
    "                if i!=indice :\n",
    "                    NouvelleChaine=NouvelleChaine+chaine[i]\n",
    "            print(NouvelleChaine)\n",
    "        else:\n",
    "            print(\"l'indice est non valide il doit être entre 0 et\", len(chaine)-1)     \n",
    "    else:\n",
    "        print(\"saisir une chaine de caractère non vide et un indice entier\")\n",
    "            \n"
   ]
  },
  {
   "cell_type": "code",
   "execution_count": 35,
   "id": "e9fc991a",
   "metadata": {},
   "outputs": [
    {
     "name": "stdout",
     "output_type": "stream",
     "text": [
      "ktte\n"
     ]
    }
   ],
   "source": [
    "missing_char('kitten',1)"
   ]
  },
  {
   "cell_type": "code",
   "execution_count": 36,
   "id": "5568fc5a",
   "metadata": {},
   "outputs": [
    {
     "name": "stdout",
     "output_type": "stream",
     "text": [
      "itte\n"
     ]
    }
   ],
   "source": [
    "missing_char('kitten',0)"
   ]
  },
  {
   "cell_type": "code",
   "execution_count": 37,
   "id": "4529c627",
   "metadata": {},
   "outputs": [
    {
     "name": "stdout",
     "output_type": "stream",
     "text": [
      "kitte\n"
     ]
    }
   ],
   "source": [
    "missing_char('kitten',5)"
   ]
  },
  {
   "cell_type": "code",
   "execution_count": 38,
   "id": "33a62e49",
   "metadata": {},
   "outputs": [
    {
     "name": "stdout",
     "output_type": "stream",
     "text": [
      "l'indice est non valide il doit être entre 0 et 5\n"
     ]
    }
   ],
   "source": [
    "missing_char('kitten',10)"
   ]
  },
  {
   "cell_type": "code",
   "execution_count": 39,
   "id": "eb57ea93",
   "metadata": {},
   "outputs": [
    {
     "name": "stdout",
     "output_type": "stream",
     "text": [
      "saisir une chaine de caractère non vide et un indice entier\n"
     ]
    }
   ],
   "source": [
    "missing_char('kitten',10.4)"
   ]
  },
  {
   "cell_type": "code",
   "execution_count": 40,
   "id": "10863fb9",
   "metadata": {},
   "outputs": [
    {
     "name": "stdout",
     "output_type": "stream",
     "text": [
      "saisir une chaine de caractère non vide et un indice entier\n"
     ]
    }
   ],
   "source": [
    "missing_char('',0)"
   ]
  },
  {
   "cell_type": "code",
   "execution_count": 41,
   "id": "32d41700",
   "metadata": {},
   "outputs": [
    {
     "name": "stdout",
     "output_type": "stream",
     "text": [
      "saisir une chaine de caractère non vide et un indice entier\n"
     ]
    }
   ],
   "source": [
    "missing_char(33,0)"
   ]
  },
  {
   "cell_type": "code",
   "execution_count": 94,
   "id": "682f5467",
   "metadata": {},
   "outputs": [
    {
     "name": "stdout",
     "output_type": "stream",
     "text": [
      "Original array elements : [[0 1]\n",
      " [2 3]\n",
      " [4 5]]\n",
      "Array to list : [[0, 1], [2, 3], [4, 5]]\n"
     ]
    }
   ],
   "source": [
    "#Question5\n",
    "import numpy as np\n",
    "OriginalArray = np.array(((0,1),(2,3),(4,5)))\n",
    "ConvertedArray = OriginalArray.tolist()\n",
    "print('Original array elements :', OriginalArray)\n",
    "print('Array to list :', ConvertedArray)"
   ]
  },
  {
   "cell_type": "code",
   "execution_count": 95,
   "id": "1b6bdffe",
   "metadata": {},
   "outputs": [
    {
     "name": "stdout",
     "output_type": "stream",
     "text": [
      "Original array 1 : [0, 1, 2]\n",
      "Original array 2 : [2, 1, 0]\n",
      "Covariance matrix of the said arrays :  [[ 1. -1.]\n",
      " [-1.  1.]]\n"
     ]
    }
   ],
   "source": [
    "#Question 6\n",
    "import numpy as np\n",
    "def covarianceMatrix (OriginalArray1,OriginalArray2):\n",
    "    covarianceMatrix=np.cov(OriginalArray1,OriginalArray2)\n",
    "    print('Original array 1 :',OriginalArray1)\n",
    "    print('Original array 2 :',OriginalArray2)\n",
    "    print ('Covariance matrix of the said arrays : ',covarianceMatrix)\n",
    "covarianceMatrix([0,1,2],[2,1,0])"
   ]
  },
  {
   "cell_type": "code",
   "execution_count": 96,
   "id": "160b7b76",
   "metadata": {},
   "outputs": [
    {
     "name": "stdout",
     "output_type": "stream",
     "text": [
      "18\n",
      "22\n",
      "24\n"
     ]
    }
   ],
   "source": [
    "#Question 7\n",
    "def exercice(*D):\n",
    "    import math\n",
    "    C=50\n",
    "    H=30\n",
    "    for valeur in D[:]:\n",
    "        Resultat=math.sqrt(((2*C*valeur)/H))\n",
    "        print(int(Resultat))\n",
    "    \n",
    "exercice(100,150,180)    \n"
   ]
  },
  {
   "cell_type": "code",
   "execution_count": null,
   "id": "cecf5a8a",
   "metadata": {},
   "outputs": [],
   "source": []
  },
  {
   "cell_type": "code",
   "execution_count": null,
   "id": "d664d386",
   "metadata": {},
   "outputs": [],
   "source": []
  },
  {
   "cell_type": "code",
   "execution_count": null,
   "id": "d6f2dc40",
   "metadata": {},
   "outputs": [],
   "source": []
  },
  {
   "cell_type": "code",
   "execution_count": null,
   "id": "e623afdf",
   "metadata": {},
   "outputs": [],
   "source": []
  }
 ],
 "metadata": {
  "kernelspec": {
   "display_name": "Python 3 (ipykernel)",
   "language": "python",
   "name": "python3"
  },
  "language_info": {
   "codemirror_mode": {
    "name": "ipython",
    "version": 3
   },
   "file_extension": ".py",
   "mimetype": "text/x-python",
   "name": "python",
   "nbconvert_exporter": "python",
   "pygments_lexer": "ipython3",
   "version": "3.9.13"
  }
 },
 "nbformat": 4,
 "nbformat_minor": 5
}
